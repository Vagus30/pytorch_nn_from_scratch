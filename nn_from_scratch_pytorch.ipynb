{
 "cells": [
  {
   "cell_type": "code",
   "execution_count": 56,
   "id": "a061f6af-b26f-4e6c-9036-c20f9aa32957",
   "metadata": {},
   "outputs": [],
   "source": [
    "import pandas as pd"
   ]
  },
  {
   "cell_type": "code",
   "execution_count": 57,
   "id": "b81c8d1e-67d4-4db5-831c-3ec320fb09d9",
   "metadata": {},
   "outputs": [],
   "source": [
    "data = pd.read_csv(\"Bank Of Trust Dataset.csv\")"
   ]
  },
  {
   "cell_type": "code",
   "execution_count": 58,
   "id": "827b9a5b-a83c-499b-88b7-2b3139fe518b",
   "metadata": {},
   "outputs": [
    {
     "data": {
      "text/html": [
       "<div>\n",
       "<style scoped>\n",
       "    .dataframe tbody tr th:only-of-type {\n",
       "        vertical-align: middle;\n",
       "    }\n",
       "\n",
       "    .dataframe tbody tr th {\n",
       "        vertical-align: top;\n",
       "    }\n",
       "\n",
       "    .dataframe thead th {\n",
       "        text-align: right;\n",
       "    }\n",
       "</style>\n",
       "<table border=\"1\" class=\"dataframe\">\n",
       "  <thead>\n",
       "    <tr style=\"text-align: right;\">\n",
       "      <th></th>\n",
       "      <th>id</th>\n",
       "      <th>account_type</th>\n",
       "      <th>gender</th>\n",
       "      <th>age</th>\n",
       "      <th>region_code</th>\n",
       "      <th>cc_cons_apr</th>\n",
       "      <th>dc_cons_apr</th>\n",
       "      <th>cc_cons_may</th>\n",
       "      <th>dc_cons_may</th>\n",
       "      <th>cc_cons_jun</th>\n",
       "      <th>...</th>\n",
       "      <th>debit_count_may</th>\n",
       "      <th>max_credit_amount_may</th>\n",
       "      <th>debit_amount_jun</th>\n",
       "      <th>credit_amount_jun</th>\n",
       "      <th>credit_count_jun</th>\n",
       "      <th>debit_count_jun</th>\n",
       "      <th>max_credit_amount_jun</th>\n",
       "      <th>loan_enq</th>\n",
       "      <th>emi_active</th>\n",
       "      <th>cc_cons</th>\n",
       "    </tr>\n",
       "  </thead>\n",
       "  <tbody>\n",
       "    <tr>\n",
       "      <th>0</th>\n",
       "      <td>23334</td>\n",
       "      <td>saving</td>\n",
       "      <td>M</td>\n",
       "      <td>63</td>\n",
       "      <td>305</td>\n",
       "      <td>7695.00</td>\n",
       "      <td>NaN</td>\n",
       "      <td>479.00</td>\n",
       "      <td>NaN</td>\n",
       "      <td>622.0</td>\n",
       "      <td>...</td>\n",
       "      <td>2.0</td>\n",
       "      <td>45000.0</td>\n",
       "      <td>20215.85</td>\n",
       "      <td>1279.37</td>\n",
       "      <td>7.0</td>\n",
       "      <td>3.0</td>\n",
       "      <td>470.0</td>\n",
       "      <td>NaN</td>\n",
       "      <td>0.00</td>\n",
       "      <td>435</td>\n",
       "    </tr>\n",
       "    <tr>\n",
       "      <th>1</th>\n",
       "      <td>20329</td>\n",
       "      <td>current</td>\n",
       "      <td>M</td>\n",
       "      <td>33</td>\n",
       "      <td>326</td>\n",
       "      <td>52702.00</td>\n",
       "      <td>988.72</td>\n",
       "      <td>29873.00</td>\n",
       "      <td>NaN</td>\n",
       "      <td>1087.0</td>\n",
       "      <td>...</td>\n",
       "      <td>10.0</td>\n",
       "      <td>150000.0</td>\n",
       "      <td>122037.66</td>\n",
       "      <td>55390.00</td>\n",
       "      <td>8.0</td>\n",
       "      <td>19.0</td>\n",
       "      <td>27000.0</td>\n",
       "      <td>NaN</td>\n",
       "      <td>4963.33</td>\n",
       "      <td>1921</td>\n",
       "    </tr>\n",
       "    <tr>\n",
       "      <th>2</th>\n",
       "      <td>17679</td>\n",
       "      <td>current</td>\n",
       "      <td>M</td>\n",
       "      <td>44</td>\n",
       "      <td>264</td>\n",
       "      <td>10800.49</td>\n",
       "      <td>3215.52</td>\n",
       "      <td>21659.64</td>\n",
       "      <td>1607.0</td>\n",
       "      <td>1168.0</td>\n",
       "      <td>...</td>\n",
       "      <td>7.0</td>\n",
       "      <td>13800.0</td>\n",
       "      <td>46827.00</td>\n",
       "      <td>29297.91</td>\n",
       "      <td>6.0</td>\n",
       "      <td>19.0</td>\n",
       "      <td>20800.0</td>\n",
       "      <td>NaN</td>\n",
       "      <td>0.00</td>\n",
       "      <td>1970</td>\n",
       "    </tr>\n",
       "    <tr>\n",
       "      <th>3</th>\n",
       "      <td>16428</td>\n",
       "      <td>saving</td>\n",
       "      <td>M</td>\n",
       "      <td>44</td>\n",
       "      <td>233</td>\n",
       "      <td>20936.00</td>\n",
       "      <td>NaN</td>\n",
       "      <td>2094.00</td>\n",
       "      <td>NaN</td>\n",
       "      <td>11778.5</td>\n",
       "      <td>...</td>\n",
       "      <td>1.0</td>\n",
       "      <td>19300.0</td>\n",
       "      <td>5426.55</td>\n",
       "      <td>7544.00</td>\n",
       "      <td>3.0</td>\n",
       "      <td>1.0</td>\n",
       "      <td>5300.0</td>\n",
       "      <td>NaN</td>\n",
       "      <td>1238.18</td>\n",
       "      <td>21579</td>\n",
       "    </tr>\n",
       "    <tr>\n",
       "      <th>4</th>\n",
       "      <td>18721</td>\n",
       "      <td>saving</td>\n",
       "      <td>F</td>\n",
       "      <td>35</td>\n",
       "      <td>324</td>\n",
       "      <td>1183.83</td>\n",
       "      <td>NaN</td>\n",
       "      <td>3656.29</td>\n",
       "      <td>NaN</td>\n",
       "      <td>945.0</td>\n",
       "      <td>...</td>\n",
       "      <td>3.0</td>\n",
       "      <td>3000.0</td>\n",
       "      <td>26178.05</td>\n",
       "      <td>53483.00</td>\n",
       "      <td>4.0</td>\n",
       "      <td>4.0</td>\n",
       "      <td>45000.0</td>\n",
       "      <td>NaN</td>\n",
       "      <td>0.00</td>\n",
       "      <td>1814</td>\n",
       "    </tr>\n",
       "  </tbody>\n",
       "</table>\n",
       "<p>5 rows × 44 columns</p>\n",
       "</div>"
      ],
      "text/plain": [
       "      id account_type gender  age  region_code  cc_cons_apr  dc_cons_apr  \\\n",
       "0  23334       saving      M   63          305      7695.00          NaN   \n",
       "1  20329      current      M   33          326     52702.00       988.72   \n",
       "2  17679      current      M   44          264     10800.49      3215.52   \n",
       "3  16428       saving      M   44          233     20936.00          NaN   \n",
       "4  18721       saving      F   35          324      1183.83          NaN   \n",
       "\n",
       "   cc_cons_may  dc_cons_may  cc_cons_jun  ...  debit_count_may  \\\n",
       "0       479.00          NaN        622.0  ...              2.0   \n",
       "1     29873.00          NaN       1087.0  ...             10.0   \n",
       "2     21659.64       1607.0       1168.0  ...              7.0   \n",
       "3      2094.00          NaN      11778.5  ...              1.0   \n",
       "4      3656.29          NaN        945.0  ...              3.0   \n",
       "\n",
       "   max_credit_amount_may  debit_amount_jun  credit_amount_jun  \\\n",
       "0                45000.0          20215.85            1279.37   \n",
       "1               150000.0         122037.66           55390.00   \n",
       "2                13800.0          46827.00           29297.91   \n",
       "3                19300.0           5426.55            7544.00   \n",
       "4                 3000.0          26178.05           53483.00   \n",
       "\n",
       "   credit_count_jun  debit_count_jun  max_credit_amount_jun  loan_enq  \\\n",
       "0               7.0              3.0                  470.0       NaN   \n",
       "1               8.0             19.0                27000.0       NaN   \n",
       "2               6.0             19.0                20800.0       NaN   \n",
       "3               3.0              1.0                 5300.0       NaN   \n",
       "4               4.0              4.0                45000.0       NaN   \n",
       "\n",
       "   emi_active  cc_cons  \n",
       "0        0.00      435  \n",
       "1     4963.33     1921  \n",
       "2        0.00     1970  \n",
       "3     1238.18    21579  \n",
       "4        0.00     1814  \n",
       "\n",
       "[5 rows x 44 columns]"
      ]
     },
     "execution_count": 58,
     "metadata": {},
     "output_type": "execute_result"
    }
   ],
   "source": [
    "data.head()"
   ]
  },
  {
   "cell_type": "code",
   "execution_count": 59,
   "id": "60295914-5321-4525-b615-eddadb0ef663",
   "metadata": {},
   "outputs": [],
   "source": [
    "columns_with_na = data.columns[data.isna().any()].to_list()"
   ]
  },
  {
   "cell_type": "raw",
   "id": "dc4e47ce-5ad1-4510-b98b-4c56ed375752",
   "metadata": {},
   "source": []
  },
  {
   "cell_type": "code",
   "execution_count": 60,
   "id": "ec1c7fe6-1dad-4e1d-b519-c8b302b842f9",
   "metadata": {},
   "outputs": [
    {
     "name": "stdout",
     "output_type": "stream",
     "text": [
      "Columns with NA values ['dc_cons_apr', 'dc_cons_may', 'dc_cons_jun', 'cc_count_apr', 'cc_count_may', 'cc_count_jun', 'dc_count_apr', 'dc_count_may', 'dc_count_jun', 'card_lim', 'personal_loan_active', 'vehicle_loan_active', 'personal_loan_closed', 'vehicle_loan_closed', 'investment_1', 'investment_2', 'investment_3', 'investment_4', 'debit_amount_apr', 'credit_amount_apr', 'debit_count_apr', 'credit_count_apr', 'max_credit_amount_apr', 'debit_amount_may', 'credit_amount_may', 'credit_count_may', 'debit_count_may', 'max_credit_amount_may', 'debit_amount_jun', 'credit_amount_jun', 'credit_count_jun', 'debit_count_jun', 'max_credit_amount_jun', 'loan_enq']\n"
     ]
    }
   ],
   "source": [
    "print(\"Columns with NA values\", columns_with_na)"
   ]
  },
  {
   "cell_type": "code",
   "execution_count": 61,
   "id": "8a88ad65-28c6-47b4-a5ef-d4c1f19d9e54",
   "metadata": {},
   "outputs": [
    {
     "name": "stdout",
     "output_type": "stream",
     "text": [
      "Len of Null values 34\n"
     ]
    }
   ],
   "source": [
    "print(\"Len of Null values\",len(columns_with_na))"
   ]
  },
  {
   "cell_type": "code",
   "execution_count": 62,
   "id": "0f7a2c0e-6a75-42db-afb5-19707141cf93",
   "metadata": {},
   "outputs": [],
   "source": [
    "# List of numeric columns where we have to replace NaN values with 0\n",
    "# Note: ideally we have to check with a domain expert whether filling a specific e,pty cells with 0 is appropriate\n",
    "numeric_columns = [\n",
    "    'dc_cons_apr', 'dc_cons_may', 'dc_cons_jun', 'cc_count_apr', 'cc_count_may', 'cc_count_jun',\n",
    "    'dc_count_apr', 'dc_count_may', 'dc_count_jun', 'card_lim', 'personal_loan_active', 'vehicle_loan_active',\n",
    "    'personal_loan_closed', 'vehicle_loan_closed', 'investment_1', 'investment_2', 'investment_3', 'investment_4',\n",
    "    'debit_amount_apr', 'credit_amount_apr', 'debit_count_apr', 'credit_count_apr', 'max_credit_amount_apr',\n",
    "    'debit_amount_may', 'credit_amount_may', 'credit_count_may', 'debit_count_may', 'max_credit_amount_may',\n",
    "    'debit_amount_jun', 'credit_amount_jun', 'credit_count_jun', 'debit_count_jun', 'max_credit_amount_jun'\n",
    "]"
   ]
  },
  {
   "cell_type": "code",
   "execution_count": 63,
   "id": "bdc20017-c82f-46d4-a5b4-af52087a23ce",
   "metadata": {},
   "outputs": [],
   "source": [
    "data[numeric_columns] = data[numeric_columns].fillna(0)"
   ]
  },
  {
   "cell_type": "code",
   "execution_count": 64,
   "id": "d517284e-e1b9-4018-9f94-2b71a93e1559",
   "metadata": {},
   "outputs": [
    {
     "name": "stdout",
     "output_type": "stream",
     "text": [
      "dc_cons_apr              0\n",
      "dc_cons_may              0\n",
      "dc_cons_jun              0\n",
      "cc_count_apr             0\n",
      "cc_count_may             0\n",
      "cc_count_jun             0\n",
      "dc_count_apr             0\n",
      "dc_count_may             0\n",
      "dc_count_jun             0\n",
      "card_lim                 0\n",
      "personal_loan_active     0\n",
      "vehicle_loan_active      0\n",
      "personal_loan_closed     0\n",
      "vehicle_loan_closed      0\n",
      "investment_1             0\n",
      "investment_2             0\n",
      "investment_3             0\n",
      "investment_4             0\n",
      "debit_amount_apr         0\n",
      "credit_amount_apr        0\n",
      "debit_count_apr          0\n",
      "credit_count_apr         0\n",
      "max_credit_amount_apr    0\n",
      "debit_amount_may         0\n",
      "credit_amount_may        0\n",
      "credit_count_may         0\n",
      "debit_count_may          0\n",
      "max_credit_amount_may    0\n",
      "debit_amount_jun         0\n",
      "credit_amount_jun        0\n",
      "credit_count_jun         0\n",
      "debit_count_jun          0\n",
      "max_credit_amount_jun    0\n",
      "dtype: int64\n"
     ]
    }
   ],
   "source": [
    "print(data[numeric_columns].isna().sum())"
   ]
  },
  {
   "cell_type": "code",
   "execution_count": 65,
   "id": "75d53ac0",
   "metadata": {},
   "outputs": [
    {
     "data": {
      "text/plain": [
       "['loan_enq']"
      ]
     },
     "execution_count": 65,
     "metadata": {},
     "output_type": "execute_result"
    }
   ],
   "source": [
    "data.columns[data.isna().any()].to_list()"
   ]
  },
  {
   "cell_type": "code",
   "execution_count": 66,
   "id": "f1c93c41",
   "metadata": {},
   "outputs": [],
   "source": [
    "data[\"loan_enq\"] = data[\"loan_enq\"].fillna(\"N\")"
   ]
  },
  {
   "cell_type": "code",
   "execution_count": 67,
   "id": "5734d2ad",
   "metadata": {},
   "outputs": [
    {
     "data": {
      "text/plain": [
       "[]"
      ]
     },
     "execution_count": 67,
     "metadata": {},
     "output_type": "execute_result"
    }
   ],
   "source": [
    "data.columns[data.isna().any()].to_list()"
   ]
  },
  {
   "cell_type": "code",
   "execution_count": 68,
   "id": "d0af2e72",
   "metadata": {},
   "outputs": [],
   "source": [
    "from sklearn.preprocessing import StandardScaler, OneHotEncoder\n",
    "from sklearn.compose import ColumnTransformer\n",
    "from sklearn.model_selection import train_test_split"
   ]
  },
  {
   "cell_type": "code",
   "execution_count": 69,
   "id": "864f089d",
   "metadata": {},
   "outputs": [],
   "source": [
    "X = data.drop(columns=\"cc_cons\",axis=1)"
   ]
  },
  {
   "cell_type": "code",
   "execution_count": 70,
   "id": "930e04b5",
   "metadata": {},
   "outputs": [],
   "source": [
    "y= data[\"cc_cons\"]"
   ]
  },
  {
   "cell_type": "code",
   "execution_count": 71,
   "id": "6c6df1ac",
   "metadata": {},
   "outputs": [],
   "source": [
    "numerical_cols = X.select_dtypes(include=['int64', 'float64']).columns\n",
    "categorical_cols = ['account_type', 'gender', 'loan_enq']"
   ]
  },
  {
   "cell_type": "code",
   "execution_count": 72,
   "id": "2ae5e77b",
   "metadata": {},
   "outputs": [],
   "source": [
    "numerical_transformer = StandardScaler()\n",
    "categorical_transformer = OneHotEncoder(handle_unknown='ignore')"
   ]
  },
  {
   "cell_type": "code",
   "execution_count": 73,
   "id": "4fd8d20a",
   "metadata": {},
   "outputs": [],
   "source": [
    "preprocessor = ColumnTransformer(\n",
    "    transformers=[\n",
    "        ('num', numerical_transformer, numerical_cols),\n",
    "        ('cat', categorical_transformer, categorical_cols)\n",
    "    ]\n",
    ")\n"
   ]
  },
  {
   "cell_type": "code",
   "execution_count": 74,
   "id": "3f35ae27",
   "metadata": {},
   "outputs": [
    {
     "name": "stdout",
     "output_type": "stream",
     "text": [
      "Shape of X_train: (26256, 43)\n",
      "Shape of X_test: (6564, 43)\n",
      "Shape of y_train: (26256,)\n",
      "Shape of y_test: (6564,)\n"
     ]
    }
   ],
   "source": [
    "X_train, X_test, y_train, y_test = train_test_split(X, y, test_size=0.2, random_state=42)\n",
    "print(\"Shape of X_train:\", X_train.shape)\n",
    "print(\"Shape of X_test:\", X_test.shape)\n",
    "print(\"Shape of y_train:\", y_train.shape)\n",
    "print(\"Shape of y_test:\", y_test.shape)"
   ]
  },
  {
   "cell_type": "code",
   "execution_count": 75,
   "id": "bc41e9f3",
   "metadata": {},
   "outputs": [
    {
     "data": {
      "text/plain": [
       "array([[-8.92149382e-01,  1.26184550e-01,  1.01228936e+00,\n",
       "         8.04465192e-01, -2.93998513e-01, -2.65915823e-01,\n",
       "        -2.54330193e-01,  7.49194007e-01, -2.68134403e-01,\n",
       "         1.39285355e+00, -2.62852474e-02,  1.07436327e-01,\n",
       "        -4.65370796e-01, -4.99181464e-01, -5.39590028e-01,\n",
       "         6.77124663e-02, -2.98267570e-01, -1.63548175e-01,\n",
       "        -3.11254411e-01, -2.28328362e-01, -3.77327103e-02,\n",
       "        -9.60279314e-02, -8.31306433e-02, -6.98201952e-02,\n",
       "        -1.27928131e-01, -2.97086648e-02, -4.32490136e-01,\n",
       "         1.16903984e-01,  3.24543384e-04,  1.51334736e-01,\n",
       "         1.16134971e-02, -4.72475333e-01, -5.19753825e-01,\n",
       "         5.51234031e-02, -8.50955727e-02, -8.12618590e-02,\n",
       "        -7.33318169e-01, -6.84578159e-01,  4.85145277e-02,\n",
       "        -2.63081650e-02,  0.00000000e+00,  1.00000000e+00,\n",
       "         0.00000000e+00,  1.00000000e+00,  1.00000000e+00,\n",
       "         0.00000000e+00],\n",
       "       [-1.30408735e+00,  2.25299724e+00, -1.08356872e-01,\n",
       "        -3.63408806e-01,  2.10429439e+00, -8.91787342e-02,\n",
       "         5.72762664e-01, -2.93381333e-01,  1.41510512e+00,\n",
       "        -3.17078315e-01, -4.34474191e-01, -7.35463393e-01,\n",
       "         1.00979226e+00,  8.59164304e-01,  1.14846732e+00,\n",
       "        -7.19747325e-01, -2.98267570e-01, -1.63548175e-01,\n",
       "        -3.11254411e-01, -2.28328362e-01, -3.77327103e-02,\n",
       "        -9.60279314e-02, -8.31306433e-02, -6.98201952e-02,\n",
       "        -1.56608169e-01, -2.02575767e-01, -1.78202672e-01,\n",
       "        -7.38090724e-01, -8.64412062e-02, -2.28248994e-01,\n",
       "        -2.03458007e-01, -2.14305631e-01,  1.70189939e-01,\n",
       "        -1.11921109e-01, -1.47940758e-01, -1.41100712e-01,\n",
       "        -5.23962721e-01,  2.03845145e-01, -9.24809092e-02,\n",
       "        -3.54201945e-02,  1.00000000e+00,  0.00000000e+00,\n",
       "         1.00000000e+00,  0.00000000e+00,  1.00000000e+00,\n",
       "         0.00000000e+00]])"
      ]
     },
     "execution_count": 75,
     "metadata": {},
     "output_type": "execute_result"
    }
   ],
   "source": [
    "X_train = preprocessor.fit_transform(X_train)\n",
    "X_test = preprocessor.transform(X_test)\n",
    "X_train[:2]  # Display the first two rows of the transformed training data"
   ]
  },
  {
   "cell_type": "code",
   "execution_count": 76,
   "id": "9b5138c5",
   "metadata": {},
   "outputs": [],
   "source": [
    "import torch"
   ]
  },
  {
   "cell_type": "code",
   "execution_count": 77,
   "id": "17e3361b",
   "metadata": {},
   "outputs": [],
   "source": [
    "X_train_tensor = torch.tensor(X_train, dtype=torch.float32)\n",
    "X_test_tensor = torch.tensor(X_test, dtype=torch.float32)\n",
    "y_train_tensor = torch.tensor(y_train, dtype=torch.float32)\n",
    "y_test_tensor = torch.tensor(y_test.values.reshape(-1, 1), dtype=torch.float32)"
   ]
  },
  {
   "cell_type": "code",
   "execution_count": 78,
   "id": "aaba2f3a",
   "metadata": {},
   "outputs": [],
   "source": [
    "#!pip3 uninstall -y torch torchvision\n",
    "#!pip3 install torch torchvision"
   ]
  },
  {
   "cell_type": "code",
   "execution_count": 79,
   "id": "17458f72",
   "metadata": {},
   "outputs": [
    {
     "data": {
      "image/png": "[encoded data removed]",
      "text/plain": [
       "<Figure size 640x480 with 1 Axes>"
      ]
     },
     "metadata": {},
     "output_type": "display_data"
    }
   ],
   "source": [
    "import matplotlib.pyplot as plt\n",
    "plt.hist(y_train_tensor, bins=100,edgecolor='black')\n",
    "plt.show()\n"
   ]
  },
  {
   "cell_type": "code",
   "execution_count": 80,
   "id": "b58ff1be",
   "metadata": {},
   "outputs": [],
   "source": [
    "def rmsle(y_true, y_pred):\n",
    "    y_true = torch.clamp(y_true,min=0)+1\n",
    "    y_pred = torch.clamp(y_pred,min=0)+1\n",
    "    log_pred = torch.log(y_pred)\n",
    "    log_true = torch.log(y_true)\n",
    "    squared_log_error = (log_pred - log_true) ** 2\n",
    "    mean_squared_log_error = torch.mean(squared_log_error)\n",
    "    rmsle = torch.sqrt(mean_squared_log_error)\n",
    "    return rmsle"
   ]
  },
  {
   "cell_type": "code",
   "execution_count": 81,
   "id": "b219ec86",
   "metadata": {},
   "outputs": [],
   "source": [
    "import torch.nn as nn\n",
    "import torch.nn.functional as F\n",
    "from torch.utils.data import TensorDataset, DataLoader\n",
    "import torch.optim as optim"
   ]
  },
  {
   "cell_type": "code",
   "execution_count": 82,
   "id": "03898947",
   "metadata": {},
   "outputs": [],
   "source": [
    "class Net(nn.Module):\n",
    "    def __init__(self):\n",
    "        super(Net, self).__init__()\n",
    "        self.fc1 = nn.Linear(X_test_tensor.shape[1], 128)\n",
    "        self.fc2 = nn.Linear(128,64)\n",
    "        self.fc3 = nn.Linear(64,32)\n",
    "        self.fc4 = nn.Linear(32,1)\n",
    "    def forward(self,x):\n",
    "        x = F.relu(self.fc1(x))\n",
    "        x = F.relu(self.fc2(x))\n",
    "        x = F.relu(self.fc3(x))\n",
    "        x = self.fc4(x)\n",
    "        return x\n"
   ]
  },
  {
   "cell_type": "code",
   "execution_count": 83,
   "id": "5613eb88",
   "metadata": {},
   "outputs": [],
   "source": [
    "train_data = TensorDataset(X_train_tensor, y_train_tensor)"
   ]
  },
  {
   "cell_type": "code",
   "execution_count": 84,
   "id": "ecd370f2",
   "metadata": {},
   "outputs": [],
   "source": [
    "Model = Net()\n",
    "optimizer = optim.SGD(Model.parameters(),lr=0.001,momentum=0.9)\n",
    "train_loss_list = []\n",
    "test_loss_list = []\n",
    "num_epochs = 100\n",
    "train_loader = DataLoader(train_data, batch_size=32, shuffle=True)"
   ]
  },
  {
   "cell_type": "code",
   "execution_count": 85,
   "id": "adfefc9f",
   "metadata": {},
   "outputs": [
    {
     "name": "stdout",
     "output_type": "stream",
     "text": [
      "Epoch 1/100, Train Loss: 8.1214, Test Loss: 8.1465\n",
      "Epoch 2/100, Train Loss: 8.1214, Test Loss: 8.1465\n",
      "Epoch 3/100, Train Loss: 8.1214, Test Loss: 8.1465\n",
      "Epoch 4/100, Train Loss: 8.1214, Test Loss: 8.1465\n",
      "Epoch 5/100, Train Loss: 8.1214, Test Loss: 8.1465\n",
      "Epoch 6/100, Train Loss: 8.1214, Test Loss: 8.1465\n",
      "Epoch 7/100, Train Loss: 8.1214, Test Loss: 8.1465\n",
      "Epoch 8/100, Train Loss: 8.1214, Test Loss: 8.1465\n",
      "Epoch 9/100, Train Loss: 8.1214, Test Loss: 8.1465\n",
      "Epoch 10/100, Train Loss: 8.1214, Test Loss: 8.1465\n",
      "Epoch 11/100, Train Loss: 8.1214, Test Loss: 8.1465\n",
      "Epoch 12/100, Train Loss: 8.1214, Test Loss: 8.1465\n",
      "Epoch 13/100, Train Loss: 8.1214, Test Loss: 8.1465\n",
      "Epoch 14/100, Train Loss: 8.1214, Test Loss: 8.1465\n",
      "Epoch 15/100, Train Loss: 8.1214, Test Loss: 8.1465\n",
      "Epoch 16/100, Train Loss: 8.1214, Test Loss: 8.1465\n",
      "Epoch 17/100, Train Loss: 8.1214, Test Loss: 8.1465\n",
      "Epoch 18/100, Train Loss: 8.1214, Test Loss: 8.1465\n",
      "Epoch 19/100, Train Loss: 8.1214, Test Loss: 8.1465\n",
      "Epoch 20/100, Train Loss: 8.1214, Test Loss: 8.1465\n",
      "Epoch 21/100, Train Loss: 8.1214, Test Loss: 8.1465\n",
      "Epoch 22/100, Train Loss: 8.1214, Test Loss: 8.1465\n",
      "Epoch 23/100, Train Loss: 8.1214, Test Loss: 8.1465\n",
      "Epoch 24/100, Train Loss: 8.1214, Test Loss: 8.1465\n",
      "Epoch 25/100, Train Loss: 8.1214, Test Loss: 8.1465\n",
      "Epoch 26/100, Train Loss: 8.1214, Test Loss: 8.1465\n",
      "Epoch 27/100, Train Loss: 8.1214, Test Loss: 8.1465\n",
      "Epoch 28/100, Train Loss: 8.1214, Test Loss: 8.1465\n",
      "Epoch 29/100, Train Loss: 8.1214, Test Loss: 8.1465\n",
      "Epoch 30/100, Train Loss: 8.1214, Test Loss: 8.1465\n",
      "Epoch 31/100, Train Loss: 8.1214, Test Loss: 8.1465\n",
      "Epoch 32/100, Train Loss: 8.1214, Test Loss: 8.1465\n",
      "Epoch 33/100, Train Loss: 8.1214, Test Loss: 8.1465\n",
      "Epoch 34/100, Train Loss: 8.1214, Test Loss: 8.1465\n",
      "Epoch 35/100, Train Loss: 8.1214, Test Loss: 8.1465\n",
      "Epoch 36/100, Train Loss: 8.1214, Test Loss: 8.1465\n",
      "Epoch 37/100, Train Loss: 8.1214, Test Loss: 8.1465\n",
      "Epoch 38/100, Train Loss: 8.1214, Test Loss: 8.1465\n",
      "Epoch 39/100, Train Loss: 8.1214, Test Loss: 8.1465\n",
      "Epoch 40/100, Train Loss: 8.1214, Test Loss: 8.1465\n",
      "Epoch 41/100, Train Loss: 8.1214, Test Loss: 8.1465\n",
      "Epoch 42/100, Train Loss: 8.1214, Test Loss: 8.1465\n",
      "Epoch 43/100, Train Loss: 8.1214, Test Loss: 8.1465\n",
      "Epoch 44/100, Train Loss: 8.1214, Test Loss: 8.1465\n",
      "Epoch 45/100, Train Loss: 8.1214, Test Loss: 8.1465\n",
      "Epoch 46/100, Train Loss: 8.1214, Test Loss: 8.1465\n",
      "Epoch 47/100, Train Loss: 8.1214, Test Loss: 8.1465\n",
      "Epoch 48/100, Train Loss: 8.1214, Test Loss: 8.1465\n",
      "Epoch 49/100, Train Loss: 8.1214, Test Loss: 8.1465\n",
      "Epoch 50/100, Train Loss: 8.1214, Test Loss: 8.1465\n",
      "Epoch 51/100, Train Loss: 8.1214, Test Loss: 8.1465\n",
      "Epoch 52/100, Train Loss: 8.1214, Test Loss: 8.1465\n",
      "Epoch 53/100, Train Loss: 8.1214, Test Loss: 8.1465\n",
      "Epoch 54/100, Train Loss: 8.1214, Test Loss: 8.1465\n",
      "Epoch 55/100, Train Loss: 8.1214, Test Loss: 8.1465\n",
      "Epoch 56/100, Train Loss: 8.1214, Test Loss: 8.1465\n",
      "Epoch 57/100, Train Loss: 8.1214, Test Loss: 8.1465\n",
      "Epoch 58/100, Train Loss: 8.1214, Test Loss: 8.1465\n",
      "Epoch 59/100, Train Loss: 8.1214, Test Loss: 8.1465\n",
      "Epoch 60/100, Train Loss: 8.1214, Test Loss: 8.1465\n",
      "Epoch 61/100, Train Loss: 8.1214, Test Loss: 8.1465\n",
      "Epoch 62/100, Train Loss: 8.1214, Test Loss: 8.1465\n",
      "Epoch 63/100, Train Loss: 8.1214, Test Loss: 8.1465\n",
      "Epoch 64/100, Train Loss: 8.1214, Test Loss: 8.1465\n",
      "Epoch 65/100, Train Loss: 8.1214, Test Loss: 8.1465\n",
      "Epoch 66/100, Train Loss: 8.1214, Test Loss: 8.1465\n",
      "Epoch 67/100, Train Loss: 8.1214, Test Loss: 8.1465\n",
      "Epoch 68/100, Train Loss: 8.1214, Test Loss: 8.1465\n",
      "Epoch 69/100, Train Loss: 8.1214, Test Loss: 8.1465\n",
      "Epoch 70/100, Train Loss: 8.1214, Test Loss: 8.1465\n",
      "Epoch 71/100, Train Loss: 8.1214, Test Loss: 8.1465\n",
      "Epoch 72/100, Train Loss: 8.1214, Test Loss: 8.1465\n",
      "Epoch 73/100, Train Loss: 8.1214, Test Loss: 8.1465\n",
      "Epoch 74/100, Train Loss: 8.1214, Test Loss: 8.1465\n",
      "Epoch 75/100, Train Loss: 8.1214, Test Loss: 8.1465\n",
      "Epoch 76/100, Train Loss: 8.1214, Test Loss: 8.1465\n",
      "Epoch 77/100, Train Loss: 8.1214, Test Loss: 8.1465\n",
      "Epoch 78/100, Train Loss: 8.1214, Test Loss: 8.1465\n",
      "Epoch 79/100, Train Loss: 8.1214, Test Loss: 8.1465\n",
      "Epoch 80/100, Train Loss: 8.1214, Test Loss: 8.1465\n",
      "Epoch 81/100, Train Loss: 8.1214, Test Loss: 8.1465\n",
      "Epoch 82/100, Train Loss: 8.1214, Test Loss: 8.1465\n",
      "Epoch 83/100, Train Loss: 8.1214, Test Loss: 8.1465\n",
      "Epoch 84/100, Train Loss: 8.1214, Test Loss: 8.1465\n",
      "Epoch 85/100, Train Loss: 8.1214, Test Loss: 8.1465\n",
      "Epoch 86/100, Train Loss: 8.1214, Test Loss: 8.1465\n",
      "Epoch 87/100, Train Loss: 8.1214, Test Loss: 8.1465\n",
      "Epoch 88/100, Train Loss: 8.1214, Test Loss: 8.1465\n",
      "Epoch 89/100, Train Loss: 8.1214, Test Loss: 8.1465\n",
      "Epoch 90/100, Train Loss: 8.1214, Test Loss: 8.1465\n",
      "Epoch 91/100, Train Loss: 8.1214, Test Loss: 8.1465\n",
      "Epoch 92/100, Train Loss: 8.1214, Test Loss: 8.1465\n",
      "Epoch 93/100, Train Loss: 8.1214, Test Loss: 8.1465\n",
      "Epoch 94/100, Train Loss: 8.1214, Test Loss: 8.1465\n",
      "Epoch 95/100, Train Loss: 8.1214, Test Loss: 8.1465\n",
      "Epoch 96/100, Train Loss: 8.1214, Test Loss: 8.1465\n",
      "Epoch 97/100, Train Loss: 8.1214, Test Loss: 8.1465\n",
      "Epoch 98/100, Train Loss: 8.1214, Test Loss: 8.1465\n",
      "Epoch 99/100, Train Loss: 8.1214, Test Loss: 8.1465\n",
      "Epoch 100/100, Train Loss: 8.1214, Test Loss: 8.1465\n"
     ]
    }
   ],
   "source": [
    "for epoch in range(num_epochs):\n",
    "    for X_batch, y_batch in train_loader:\n",
    "        #forward pass\n",
    "        pred = Model(X_batch)\n",
    "        loss = rmsle(pred, y_batch)\n",
    "        #backward pass\n",
    "        optimizer.zero_grad()\n",
    "        loss.backward()\n",
    "        optimizer.step()\n",
    "    train_loss = rmsle(Model(X_train_tensor), y_train_tensor).item()\n",
    "    test_loss = rmsle(Model(X_test_tensor),y_test_tensor).item()\n",
    "    train_loss_list.append(train_loss)\n",
    "    test_loss_list.append(test_loss)\n",
    "    print(f\"Epoch {epoch+1}/{num_epochs}, Train Loss: {train_loss:.4f}, Test Loss: {test_loss:.4f}\")"
   ]
  },
  {
   "cell_type": "code",
   "execution_count": 86,
   "id": "98722473",
   "metadata": {},
   "outputs": [
    {
     "data": {
      "text/plain": [
       "<matplotlib.legend.Legend at 0x3217468d0>"
      ]
     },
     "execution_count": 86,
     "metadata": {},
     "output_type": "execute_result"
    },
    {
     "data": {
      "image/png": "[encoded data removed]",
      "text/plain": [
       "<Figure size 640x480 with 1 Axes>"
      ]
     },
     "metadata": {},
     "output_type": "display_data"
    }
   ],
   "source": [
    "plt.plot(train_loss_list, label='Train Loss')\n",
    "plt.plot(test_loss_list, label='Test Loss')\n",
    "plt.xlabel('Epochs')\n",
    "plt.legend()"
   ]
  },
  {
   "cell_type": "code",
   "execution_count": 87,
   "id": "a03d9830",
   "metadata": {},
   "outputs": [],
   "source": [
    "class Net(nn.Module):\n",
    "    def __init__(self):\n",
    "        super(Net,self).__init__()\n",
    "        self.fc1 = nn.Linear(X_test_tensor.shape[1],512)\n",
    "        self.fc2 = nn.Linear(512,128)\n",
    "        self.fc3 = nn.Linear(128,32)\n",
    "        self.fc4 = nn.Linear(32,1)\n",
    "    def forward(self,x):\n",
    "            x = F.relu(self,fc1(x))\n",
    "            x = F.relu(self.fc2(x))\n",
    "            x = F.relu(self.fc3(x))\n",
    "            x = self.fc4(x)\n",
    "            return x\n",
    "        \n"
   ]
  },
  {
   "cell_type": "code",
   "execution_count": 89,
   "id": "0cb343d5",
   "metadata": {},
   "outputs": [],
   "source": [
    "class Net(nn.Module):\n",
    "    def __init__(self):\n",
    "        super(Net, self).__init__()\n",
    "        # Define the three linear layers\n",
    "        self.fc1 = nn.Linear(X_test_tensor.shape[1], 512)\n",
    "        self.fc2 = nn.Linear(512, 128)\n",
    "        self.fc3 = nn.Linear(128,32)\n",
    "        self.fc4 = nn.Linear(32,1)\n",
    "        \n",
    "    def forward(self, x):\n",
    "        # Pass x through linear layers adding activations\n",
    "        x = F.relu(self.fc1(x))\n",
    "        x = F.relu(self.fc2(x))\n",
    "        x = F.relu(self.fc3(x))\n",
    "        x = self.fc4(x)\n",
    "        return x"
   ]
  },
  {
   "cell_type": "code",
   "execution_count": 93,
   "id": "53398579",
   "metadata": {},
   "outputs": [
    {
     "name": "stdout",
     "output_type": "stream",
     "text": [
      "Epoch 5: Train Loss: 1.3204, Test Loss: 1.3083\n",
      "Epoch 10: Train Loss: 1.3155, Test Loss: 1.3025\n",
      "Epoch 15: Train Loss: 1.3145, Test Loss: 1.3013\n",
      "Epoch 20: Train Loss: 1.3142, Test Loss: 1.2984\n",
      "Epoch 25: Train Loss: 1.3144, Test Loss: 1.3006\n",
      "Epoch 30: Train Loss: 1.3142, Test Loss: 1.2987\n",
      "Epoch 35: Train Loss: 1.3147, Test Loss: 1.2988\n",
      "Epoch 40: Train Loss: 1.3141, Test Loss: 1.2978\n",
      "Epoch 45: Train Loss: 1.3141, Test Loss: 1.3005\n",
      "Epoch 50: Train Loss: 1.3144, Test Loss: 1.2995\n",
      "Epoch 55: Train Loss: 1.3144, Test Loss: 1.2983\n",
      "Epoch 60: Train Loss: 1.3144, Test Loss: 1.2976\n",
      "Epoch 65: Train Loss: 1.3141, Test Loss: 1.2990\n",
      "Epoch 70: Train Loss: 1.3140, Test Loss: 1.2984\n",
      "Epoch 75: Train Loss: 1.3141, Test Loss: 1.3009\n",
      "Epoch 80: Train Loss: 1.3141, Test Loss: 1.2984\n",
      "Epoch 85: Train Loss: 1.3142, Test Loss: 1.2995\n",
      "Epoch 90: Train Loss: 1.3144, Test Loss: 1.2998\n",
      "Epoch 95: Train Loss: 1.3145, Test Loss: 1.2981\n",
      "Epoch 100: Train Loss: 1.3145, Test Loss: 1.2989\n"
     ]
    }
   ],
   "source": [
    "model = Net()\n",
    "optimizer = optim.Adam(model.parameters())\n",
    "train_loss_list=[]\n",
    "test_loss_list = []\n",
    "num_epochs = 100\n",
    "train_loader = DataLoader(train_data, batch_size= 128, shuffle=True) \n",
    "# Execute the training loop\n",
    "for epoch in range(num_epochs): # increasing the epochs for effective training\n",
    "    for X_batch, y_batch in train_loader:\n",
    "        # Forward pass\n",
    "        pred = model(X_batch)\n",
    "        loss = rmsle(pred, y_batch)\n",
    "\n",
    "        # Backward pass and optimization\n",
    "        optimizer.zero_grad()\n",
    "        loss.backward()\n",
    "        optimizer.step()\n",
    "\n",
    "    train_loss = rmsle(model(X_train_tensor), y_train_tensor).item()\n",
    "        # print(epoch,': ', train_loss)\n",
    "    test_loss = rmsle(model(X_test_tensor), y_test_tensor).item()\n",
    "    train_loss_list.append(train_loss)\n",
    "    test_loss_list.append(test_loss)\n",
    "    if (epoch+1) % 5 == 0: # printing after every 100 epochs\n",
    "        print(f'Epoch {epoch+1}: Train Loss: {train_loss:.4f}, Test Loss: {test_loss:.4f}')\n",
    "    "
   ]
  },
  {
   "cell_type": "code",
   "execution_count": 94,
   "id": "379bf94b",
   "metadata": {},
   "outputs": [
    {
     "data": {
      "image/png": "[encoded data removed]",
      "text/plain": [
       "<Figure size 640x480 with 1 Axes>"
      ]
     },
     "metadata": {},
     "output_type": "display_data"
    }
   ],
   "source": [
    "plt.plot(range(num_epochs),train_loss_list, label = 'train')\n",
    "plt.plot(range(num_epochs),test_loss_list, label = 'test')\n",
    "plt.legend()\n",
    "plt.show()"
   ]
  },
  {
   "cell_type": "code",
   "execution_count": null,
   "id": "f945ff50",
   "metadata": {},
   "outputs": [],
   "source": []
  }
 ],
 "metadata": {
  "kernelspec": {
   "display_name": "base",
   "language": "python",
   "name": "python3"
  },
  "language_info": {
   "codemirror_mode": {
    "name": "ipython",
    "version": 3
   },
   "file_extension": ".py",
   "mimetype": "text/x-python",
   "name": "python",
   "nbconvert_exporter": "python",
   "pygments_lexer": "ipython3",
   "version": "3.11.5"
  }
 },
 "nbformat": 4,
 "nbformat_minor": 5
}
